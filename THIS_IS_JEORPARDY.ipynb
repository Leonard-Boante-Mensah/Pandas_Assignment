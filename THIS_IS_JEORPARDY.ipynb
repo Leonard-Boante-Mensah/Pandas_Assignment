{
  "nbformat": 4,
  "nbformat_minor": 0,
  "metadata": {
    "colab": {
      "name": "THIS IS JEORPARDY.ipynb",
      "provenance": [],
      "authorship_tag": "ABX9TyOC7Uxxd+yaNmi0xXbbQTIB",
      "include_colab_link": true
    },
    "kernelspec": {
      "name": "python3",
      "display_name": "Python 3"
    },
    "language_info": {
      "name": "python"
    }
  },
  "cells": [
    {
      "cell_type": "markdown",
      "metadata": {
        "id": "view-in-github",
        "colab_type": "text"
      },
      "source": [
        "<a href=\"https://colab.research.google.com/github/Leonard-Boante-Mensah/Pandas_Assignment/blob/main/THIS_IS_JEORPARDY.ipynb\" target=\"_parent\"><img src=\"https://colab.research.google.com/assets/colab-badge.svg\" alt=\"Open In Colab\"/></a>"
      ]
    },
    {
      "cell_type": "code",
      "metadata": {
        "id": "BaEQOu5RFxkz"
      },
      "source": [
        ""
      ],
      "execution_count": null,
      "outputs": []
    },
    {
      "cell_type": "code",
      "metadata": {
        "colab": {
          "base_uri": "https://localhost:8080/"
        },
        "id": "4WXJ9j9aFyW4",
        "outputId": "7ff9b3c3-b922-45e6-83dd-ccf7e9ee6553"
      },
      "source": [
        "from google.colab import drive\n",
        "drive.mount('/content/drive')"
      ],
      "execution_count": 1,
      "outputs": [
        {
          "output_type": "stream",
          "name": "stdout",
          "text": [
            "Mounted at /content/drive\n"
          ]
        }
      ]
    },
    {
      "cell_type": "code",
      "metadata": {
        "colab": {
          "base_uri": "https://localhost:8080/"
        },
        "id": "TIHBKrkdDVM5",
        "outputId": "976985e0-ecf2-466d-d826-2b101ac62b55"
      },
      "source": [
        "import pandas as pd\n",
        "import numpy as np\n",
        "from matplotlib import pyplot as plt\n",
        "import seaborn as sns\n",
        "pd.set_option('display.max_colwidth', -1)"
      ],
      "execution_count": 13,
      "outputs": [
        {
          "output_type": "stream",
          "name": "stderr",
          "text": [
            "/usr/local/lib/python3.7/dist-packages/ipykernel_launcher.py:5: FutureWarning: Passing a negative integer is deprecated in version 1.0 and will not be supported in future version. Instead, use None to not limit the column width.\n",
            "  \"\"\"\n"
          ]
        }
      ]
    },
    {
      "cell_type": "code",
      "metadata": {
        "colab": {
          "base_uri": "https://localhost:8080/",
          "height": 204
        },
        "id": "P_XVzezoGkce",
        "outputId": "66640a12-39f2-4703-cc72-ed9e4de66807"
      },
      "source": [
        "data = pd.read_csv('/content/drive/MyDrive/MY PROJECT DATASETS/jeopardy_starting/jeopardy_starting/jeopardy.csv')\n",
        "data.head()"
      ],
      "execution_count": 4,
      "outputs": [
        {
          "output_type": "execute_result",
          "data": {
            "text/html": [
              "<div>\n",
              "<style scoped>\n",
              "    .dataframe tbody tr th:only-of-type {\n",
              "        vertical-align: middle;\n",
              "    }\n",
              "\n",
              "    .dataframe tbody tr th {\n",
              "        vertical-align: top;\n",
              "    }\n",
              "\n",
              "    .dataframe thead th {\n",
              "        text-align: right;\n",
              "    }\n",
              "</style>\n",
              "<table border=\"1\" class=\"dataframe\">\n",
              "  <thead>\n",
              "    <tr style=\"text-align: right;\">\n",
              "      <th></th>\n",
              "      <th>Show Number</th>\n",
              "      <th>Air Date</th>\n",
              "      <th>Round</th>\n",
              "      <th>Category</th>\n",
              "      <th>Value</th>\n",
              "      <th>Question</th>\n",
              "      <th>Answer</th>\n",
              "    </tr>\n",
              "  </thead>\n",
              "  <tbody>\n",
              "    <tr>\n",
              "      <th>0</th>\n",
              "      <td>4680</td>\n",
              "      <td>2004-12-31</td>\n",
              "      <td>Jeopardy!</td>\n",
              "      <td>HISTORY</td>\n",
              "      <td>$200</td>\n",
              "      <td>For the last 8 years of his life, Galileo was ...</td>\n",
              "      <td>Copernicus</td>\n",
              "    </tr>\n",
              "    <tr>\n",
              "      <th>1</th>\n",
              "      <td>4680</td>\n",
              "      <td>2004-12-31</td>\n",
              "      <td>Jeopardy!</td>\n",
              "      <td>ESPN's TOP 10 ALL-TIME ATHLETES</td>\n",
              "      <td>$200</td>\n",
              "      <td>No. 2: 1912 Olympian; football star at Carlisl...</td>\n",
              "      <td>Jim Thorpe</td>\n",
              "    </tr>\n",
              "    <tr>\n",
              "      <th>2</th>\n",
              "      <td>4680</td>\n",
              "      <td>2004-12-31</td>\n",
              "      <td>Jeopardy!</td>\n",
              "      <td>EVERYBODY TALKS ABOUT IT...</td>\n",
              "      <td>$200</td>\n",
              "      <td>The city of Yuma in this state has a record av...</td>\n",
              "      <td>Arizona</td>\n",
              "    </tr>\n",
              "    <tr>\n",
              "      <th>3</th>\n",
              "      <td>4680</td>\n",
              "      <td>2004-12-31</td>\n",
              "      <td>Jeopardy!</td>\n",
              "      <td>THE COMPANY LINE</td>\n",
              "      <td>$200</td>\n",
              "      <td>In 1963, live on \"The Art Linkletter Show\", th...</td>\n",
              "      <td>McDonald's</td>\n",
              "    </tr>\n",
              "    <tr>\n",
              "      <th>4</th>\n",
              "      <td>4680</td>\n",
              "      <td>2004-12-31</td>\n",
              "      <td>Jeopardy!</td>\n",
              "      <td>EPITAPHS &amp; TRIBUTES</td>\n",
              "      <td>$200</td>\n",
              "      <td>Signer of the Dec. of Indep., framer of the Co...</td>\n",
              "      <td>John Adams</td>\n",
              "    </tr>\n",
              "  </tbody>\n",
              "</table>\n",
              "</div>"
            ],
            "text/plain": [
              "   Show Number  ...      Answer\n",
              "0         4680  ...  Copernicus\n",
              "1         4680  ...  Jim Thorpe\n",
              "2         4680  ...     Arizona\n",
              "3         4680  ...  McDonald's\n",
              "4         4680  ...  John Adams\n",
              "\n",
              "[5 rows x 7 columns]"
            ]
          },
          "metadata": {},
          "execution_count": 4
        }
      ]
    },
    {
      "cell_type": "code",
      "metadata": {
        "colab": {
          "base_uri": "https://localhost:8080/"
        },
        "id": "Di16jv_LGwjQ",
        "outputId": "d4242209-0d99-44f7-8e47-f8aebb0b2565"
      },
      "source": [
        "data.columns"
      ],
      "execution_count": 7,
      "outputs": [
        {
          "output_type": "execute_result",
          "data": {
            "text/plain": [
              "Index(['Show Number', ' Air Date', ' Round', ' Category', ' Value',\n",
              "       ' Question', ' Answer'],\n",
              "      dtype='object')"
            ]
          },
          "metadata": {},
          "execution_count": 7
        }
      ]
    },
    {
      "cell_type": "code",
      "metadata": {
        "id": "b1WuPsrYHcMl"
      },
      "source": [
        "data.columns = ['show_number', 'air_date', 'round', 'category', 'value', 'question', 'answer']"
      ],
      "execution_count": 10,
      "outputs": []
    },
    {
      "cell_type": "code",
      "metadata": {
        "colab": {
          "base_uri": "https://localhost:8080/",
          "height": 204
        },
        "id": "gxxDb7_2IOV1",
        "outputId": "0b33f409-02cc-4f3b-ac24-204cb177c138"
      },
      "source": [
        "data.head()"
      ],
      "execution_count": 11,
      "outputs": [
        {
          "output_type": "execute_result",
          "data": {
            "text/html": [
              "<div>\n",
              "<style scoped>\n",
              "    .dataframe tbody tr th:only-of-type {\n",
              "        vertical-align: middle;\n",
              "    }\n",
              "\n",
              "    .dataframe tbody tr th {\n",
              "        vertical-align: top;\n",
              "    }\n",
              "\n",
              "    .dataframe thead th {\n",
              "        text-align: right;\n",
              "    }\n",
              "</style>\n",
              "<table border=\"1\" class=\"dataframe\">\n",
              "  <thead>\n",
              "    <tr style=\"text-align: right;\">\n",
              "      <th></th>\n",
              "      <th>show_number</th>\n",
              "      <th>air_date</th>\n",
              "      <th>round</th>\n",
              "      <th>category</th>\n",
              "      <th>value</th>\n",
              "      <th>question</th>\n",
              "      <th>answer</th>\n",
              "    </tr>\n",
              "  </thead>\n",
              "  <tbody>\n",
              "    <tr>\n",
              "      <th>0</th>\n",
              "      <td>4680</td>\n",
              "      <td>2004-12-31</td>\n",
              "      <td>Jeopardy!</td>\n",
              "      <td>HISTORY</td>\n",
              "      <td>$200</td>\n",
              "      <td>For the last 8 years of his life, Galileo was ...</td>\n",
              "      <td>Copernicus</td>\n",
              "    </tr>\n",
              "    <tr>\n",
              "      <th>1</th>\n",
              "      <td>4680</td>\n",
              "      <td>2004-12-31</td>\n",
              "      <td>Jeopardy!</td>\n",
              "      <td>ESPN's TOP 10 ALL-TIME ATHLETES</td>\n",
              "      <td>$200</td>\n",
              "      <td>No. 2: 1912 Olympian; football star at Carlisl...</td>\n",
              "      <td>Jim Thorpe</td>\n",
              "    </tr>\n",
              "    <tr>\n",
              "      <th>2</th>\n",
              "      <td>4680</td>\n",
              "      <td>2004-12-31</td>\n",
              "      <td>Jeopardy!</td>\n",
              "      <td>EVERYBODY TALKS ABOUT IT...</td>\n",
              "      <td>$200</td>\n",
              "      <td>The city of Yuma in this state has a record av...</td>\n",
              "      <td>Arizona</td>\n",
              "    </tr>\n",
              "    <tr>\n",
              "      <th>3</th>\n",
              "      <td>4680</td>\n",
              "      <td>2004-12-31</td>\n",
              "      <td>Jeopardy!</td>\n",
              "      <td>THE COMPANY LINE</td>\n",
              "      <td>$200</td>\n",
              "      <td>In 1963, live on \"The Art Linkletter Show\", th...</td>\n",
              "      <td>McDonald's</td>\n",
              "    </tr>\n",
              "    <tr>\n",
              "      <th>4</th>\n",
              "      <td>4680</td>\n",
              "      <td>2004-12-31</td>\n",
              "      <td>Jeopardy!</td>\n",
              "      <td>EPITAPHS &amp; TRIBUTES</td>\n",
              "      <td>$200</td>\n",
              "      <td>Signer of the Dec. of Indep., framer of the Co...</td>\n",
              "      <td>John Adams</td>\n",
              "    </tr>\n",
              "  </tbody>\n",
              "</table>\n",
              "</div>"
            ],
            "text/plain": [
              "   show_number  ...      answer\n",
              "0         4680  ...  Copernicus\n",
              "1         4680  ...  Jim Thorpe\n",
              "2         4680  ...     Arizona\n",
              "3         4680  ...  McDonald's\n",
              "4         4680  ...  John Adams\n",
              "\n",
              "[5 rows x 7 columns]"
            ]
          },
          "metadata": {},
          "execution_count": 11
        }
      ]
    },
    {
      "cell_type": "code",
      "metadata": {
        "colab": {
          "base_uri": "https://localhost:8080/"
        },
        "id": "YVPE8qs8HUW-",
        "outputId": "7902fe6a-953e-4dce-b01c-e4b81b26c13f"
      },
      "source": [
        "data.question"
      ],
      "execution_count": 14,
      "outputs": [
        {
          "output_type": "execute_result",
          "data": {
            "text/plain": [
              "0         For the last 8 years of his life, Galileo was under house arrest for espousing this man's theory                      \n",
              "1         No. 2: 1912 Olympian; football star at Carlisle Indian School; 6 MLB seasons with the Reds, Giants & Braves           \n",
              "2         The city of Yuma in this state has a record average of 4,055 hours of sunshine each year                              \n",
              "3         In 1963, live on \"The Art Linkletter Show\", this company served its billionth burger                                  \n",
              "4         Signer of the Dec. of Indep., framer of the Constitution of Mass., second President of the United States              \n",
              "                                                            ...                                                                 \n",
              "216925    This Puccini opera turns on the solution to 3 riddles posed by the heroine                                            \n",
              "216926    In North America this term is properly applied to only 4 species that are crested, including the tufted               \n",
              "216927    In Penny Lane, where this \"Hellraiser\" grew up, the barber shaves another customer--then flays him alive!             \n",
              "216928    From Ft. Sill, Okla. he made the plea, Arizona is my land, my home, my father's land, to which I now ask to... return\"\n",
              "216929    A silent movie title includes the last name of this 18th c. statesman & favorite of Catherine the Great               \n",
              "Name: question, Length: 216930, dtype: object"
            ]
          },
          "metadata": {},
          "execution_count": 14
        }
      ]
    },
    {
      "cell_type": "code",
      "metadata": {
        "colab": {
          "base_uri": "https://localhost:8080/"
        },
        "id": "wNVfHxr7ITbi",
        "outputId": "9efee16c-b31e-4e1d-c888-886c3bf8cfd8"
      },
      "source": [
        "data.category"
      ],
      "execution_count": 15,
      "outputs": [
        {
          "output_type": "execute_result",
          "data": {
            "text/plain": [
              "0         HISTORY                        \n",
              "1         ESPN's TOP 10 ALL-TIME ATHLETES\n",
              "2         EVERYBODY TALKS ABOUT IT...    \n",
              "3         THE COMPANY LINE               \n",
              "4         EPITAPHS & TRIBUTES            \n",
              "                 ...                     \n",
              "216925    RIDDLE ME THIS                 \n",
              "216926    \"T\" BIRDS                      \n",
              "216927    AUTHORS IN THEIR YOUTH         \n",
              "216928    QUOTATIONS                     \n",
              "216929    HISTORIC NAMES                 \n",
              "Name: category, Length: 216930, dtype: object"
            ]
          },
          "metadata": {},
          "execution_count": 15
        }
      ]
    },
    {
      "cell_type": "code",
      "metadata": {
        "colab": {
          "base_uri": "https://localhost:8080/"
        },
        "id": "R9-LydZNIhtZ",
        "outputId": "734f7db1-a510-410e-c6cd-cdfd68d28950"
      },
      "source": [
        "data.value"
      ],
      "execution_count": 16,
      "outputs": [
        {
          "output_type": "execute_result",
          "data": {
            "text/plain": [
              "0         $200 \n",
              "1         $200 \n",
              "2         $200 \n",
              "3         $200 \n",
              "4         $200 \n",
              "          ...  \n",
              "216925    $2000\n",
              "216926    $2000\n",
              "216927    $2000\n",
              "216928    $2000\n",
              "216929    None \n",
              "Name: value, Length: 216930, dtype: object"
            ]
          },
          "metadata": {},
          "execution_count": 16
        }
      ]
    },
    {
      "cell_type": "code",
      "metadata": {
        "colab": {
          "base_uri": "https://localhost:8080/"
        },
        "id": "RYE7BE16IlCC",
        "outputId": "640a4b69-c899-4b4a-ffe4-970ca46a10e2"
      },
      "source": [
        "data.air_date"
      ],
      "execution_count": 17,
      "outputs": [
        {
          "output_type": "execute_result",
          "data": {
            "text/plain": [
              "0         2004-12-31\n",
              "1         2004-12-31\n",
              "2         2004-12-31\n",
              "3         2004-12-31\n",
              "4         2004-12-31\n",
              "             ...    \n",
              "216925    2006-05-11\n",
              "216926    2006-05-11\n",
              "216927    2006-05-11\n",
              "216928    2006-05-11\n",
              "216929    2006-05-11\n",
              "Name: air_date, Length: 216930, dtype: object"
            ]
          },
          "metadata": {},
          "execution_count": 17
        }
      ]
    },
    {
      "cell_type": "code",
      "metadata": {
        "colab": {
          "base_uri": "https://localhost:8080/"
        },
        "id": "_swTCdMSLRl8",
        "outputId": "7e0beb8e-27a6-4560-9548-f7c43bcbdbd9"
      },
      "source": [
        "search_list = ['King', 'england']\n",
        "\n",
        "question_3 = data[data.question.apply(lambda x: all(word.lower() in x.lower() for word in search_list))]\n",
        "question_3.shape"
      ],
      "execution_count": 29,
      "outputs": [
        {
          "output_type": "execute_result",
          "data": {
            "text/plain": [
              "(152, 7)"
            ]
          },
          "metadata": {},
          "execution_count": 29
        }
      ]
    },
    {
      "cell_type": "code",
      "metadata": {
        "colab": {
          "base_uri": "https://localhost:8080/",
          "height": 419
        },
        "id": "ZsdQRKTXPNXq",
        "outputId": "af24227b-8a14-4b13-8032-9b5569fe6c2f"
      },
      "source": [
        "question_3"
      ],
      "execution_count": 30,
      "outputs": [
        {
          "output_type": "execute_result",
          "data": {
            "text/html": [
              "<div>\n",
              "<style scoped>\n",
              "    .dataframe tbody tr th:only-of-type {\n",
              "        vertical-align: middle;\n",
              "    }\n",
              "\n",
              "    .dataframe tbody tr th {\n",
              "        vertical-align: top;\n",
              "    }\n",
              "\n",
              "    .dataframe thead th {\n",
              "        text-align: right;\n",
              "    }\n",
              "</style>\n",
              "<table border=\"1\" class=\"dataframe\">\n",
              "  <thead>\n",
              "    <tr style=\"text-align: right;\">\n",
              "      <th></th>\n",
              "      <th>show_number</th>\n",
              "      <th>air_date</th>\n",
              "      <th>round</th>\n",
              "      <th>category</th>\n",
              "      <th>value</th>\n",
              "      <th>question</th>\n",
              "      <th>answer</th>\n",
              "    </tr>\n",
              "  </thead>\n",
              "  <tbody>\n",
              "    <tr>\n",
              "      <th>4953</th>\n",
              "      <td>3003</td>\n",
              "      <td>1997-09-24</td>\n",
              "      <td>Double Jeopardy!</td>\n",
              "      <td>\"PH\"UN WORDS</td>\n",
              "      <td>$200</td>\n",
              "      <td>Both England's King George V &amp; FDR put their stamp of approval on this \"King of Hobbies\"</td>\n",
              "      <td>Philately (stamp collecting)</td>\n",
              "    </tr>\n",
              "    <tr>\n",
              "      <th>6337</th>\n",
              "      <td>3517</td>\n",
              "      <td>1999-12-14</td>\n",
              "      <td>Double Jeopardy!</td>\n",
              "      <td>Y1K</td>\n",
              "      <td>$800</td>\n",
              "      <td>In retaliation for Viking raids, this \"Unready\" king of England attacks Norse areas of the Isle of Man</td>\n",
              "      <td>Ethelred</td>\n",
              "    </tr>\n",
              "    <tr>\n",
              "      <th>9191</th>\n",
              "      <td>3907</td>\n",
              "      <td>2001-09-04</td>\n",
              "      <td>Double Jeopardy!</td>\n",
              "      <td>WON THE BATTLE</td>\n",
              "      <td>$800</td>\n",
              "      <td>This king of England beat the odds to trounce the French in the 1415 Battle of Agincourt</td>\n",
              "      <td>Henry V</td>\n",
              "    </tr>\n",
              "    <tr>\n",
              "      <th>11710</th>\n",
              "      <td>2903</td>\n",
              "      <td>1997-03-26</td>\n",
              "      <td>Double Jeopardy!</td>\n",
              "      <td>BRITISH MONARCHS</td>\n",
              "      <td>$600</td>\n",
              "      <td>This Scotsman, the first Stuart king of England, was called \"The Wisest Fool in Christendom\"</td>\n",
              "      <td>James I</td>\n",
              "    </tr>\n",
              "    <tr>\n",
              "      <th>13454</th>\n",
              "      <td>4726</td>\n",
              "      <td>2005-03-07</td>\n",
              "      <td>Jeopardy!</td>\n",
              "      <td>A NUMBER FROM 1 TO 10</td>\n",
              "      <td>$1000</td>\n",
              "      <td>It's the number that followed the last king of England named William</td>\n",
              "      <td>4</td>\n",
              "    </tr>\n",
              "    <tr>\n",
              "      <th>...</th>\n",
              "      <td>...</td>\n",
              "      <td>...</td>\n",
              "      <td>...</td>\n",
              "      <td>...</td>\n",
              "      <td>...</td>\n",
              "      <td>...</td>\n",
              "      <td>...</td>\n",
              "    </tr>\n",
              "    <tr>\n",
              "      <th>208295</th>\n",
              "      <td>4621</td>\n",
              "      <td>2004-10-11</td>\n",
              "      <td>Jeopardy!</td>\n",
              "      <td>THE VIKINGS</td>\n",
              "      <td>$600</td>\n",
              "      <td>In 1066 this great-great grandson of Rollo made what some call the last Viking invasion of England</td>\n",
              "      <td>William the Conqueror</td>\n",
              "    </tr>\n",
              "    <tr>\n",
              "      <th>208742</th>\n",
              "      <td>4863</td>\n",
              "      <td>2005-11-02</td>\n",
              "      <td>Double Jeopardy!</td>\n",
              "      <td>BEFORE &amp; AFTER</td>\n",
              "      <td>$3,000</td>\n",
              "      <td>Dutch-born king who ruled England jointly with Mary II &amp; is a tasty New Zealand fish</td>\n",
              "      <td>William of Orange roughy</td>\n",
              "    </tr>\n",
              "    <tr>\n",
              "      <th>213870</th>\n",
              "      <td>5856</td>\n",
              "      <td>2010-02-15</td>\n",
              "      <td>Double Jeopardy!</td>\n",
              "      <td>URANUS</td>\n",
              "      <td>$1600</td>\n",
              "      <td>In 1781 William Herschel discovered Uranus &amp; initially named it after this king of England</td>\n",
              "      <td>George III</td>\n",
              "    </tr>\n",
              "    <tr>\n",
              "      <th>216021</th>\n",
              "      <td>1881</td>\n",
              "      <td>1992-11-09</td>\n",
              "      <td>Double Jeopardy!</td>\n",
              "      <td>HISTORIC NAMES</td>\n",
              "      <td>$1000</td>\n",
              "      <td>His nickname was \"Bertie\", but he used this name &amp; number when he became king of England in 1901</td>\n",
              "      <td>Edward VII</td>\n",
              "    </tr>\n",
              "    <tr>\n",
              "      <th>216789</th>\n",
              "      <td>5070</td>\n",
              "      <td>2006-09-29</td>\n",
              "      <td>Double Jeopardy!</td>\n",
              "      <td>ANCIENT HISTORY</td>\n",
              "      <td>$1200</td>\n",
              "      <td>This kingdom of England grew from 2 settlements, one founded around 495 by Cerdic &amp; his son Cynric</td>\n",
              "      <td>Wessex</td>\n",
              "    </tr>\n",
              "  </tbody>\n",
              "</table>\n",
              "<p>152 rows × 7 columns</p>\n",
              "</div>"
            ],
            "text/plain": [
              "        show_number  ...                        answer\n",
              "4953    3003         ...  Philately (stamp collecting)\n",
              "6337    3517         ...  Ethelred                    \n",
              "9191    3907         ...  Henry V                     \n",
              "11710   2903         ...  James I                     \n",
              "13454   4726         ...  4                           \n",
              "...      ...         ... ..                           \n",
              "208295  4621         ...  William the Conqueror       \n",
              "208742  4863         ...  William of Orange roughy    \n",
              "213870  5856         ...  George III                  \n",
              "216021  1881         ...  Edward VII                  \n",
              "216789  5070         ...  Wessex                      \n",
              "\n",
              "[152 rows x 7 columns]"
            ]
          },
          "metadata": {},
          "execution_count": 30
        }
      ]
    },
    {
      "cell_type": "code",
      "metadata": {
        "colab": {
          "base_uri": "https://localhost:8080/"
        },
        "id": "ppMRnUwCRqKc",
        "outputId": "3e43f301-10fd-4e5c-8f3e-3a98b4fbe1b9"
      },
      "source": [
        "data.info()"
      ],
      "execution_count": 37,
      "outputs": [
        {
          "output_type": "stream",
          "name": "stdout",
          "text": [
            "<class 'pandas.core.frame.DataFrame'>\n",
            "RangeIndex: 216930 entries, 0 to 216929\n",
            "Data columns (total 7 columns):\n",
            " #   Column       Non-Null Count   Dtype \n",
            "---  ------       --------------   ----- \n",
            " 0   show_number  216930 non-null  int64 \n",
            " 1   air_date     216930 non-null  object\n",
            " 2   round        216930 non-null  object\n",
            " 3   category     216930 non-null  object\n",
            " 4   value        216930 non-null  object\n",
            " 5   question     216930 non-null  object\n",
            " 6   answer       216928 non-null  object\n",
            "dtypes: int64(1), object(6)\n",
            "memory usage: 11.6+ MB\n"
          ]
        }
      ]
    },
    {
      "cell_type": "code",
      "metadata": {
        "colab": {
          "base_uri": "https://localhost:8080/"
        },
        "id": "MHtViqyLR3nH",
        "outputId": "4553df1e-23a2-4371-a046-056834097faa"
      },
      "source": [
        "data.isnull().any()"
      ],
      "execution_count": 38,
      "outputs": [
        {
          "output_type": "execute_result",
          "data": {
            "text/plain": [
              "show_number    False\n",
              "air_date       False\n",
              "round          False\n",
              "category       False\n",
              "value          False\n",
              "question       False\n",
              "answer         True \n",
              "dtype: bool"
            ]
          },
          "metadata": {},
          "execution_count": 38
        }
      ]
    },
    {
      "cell_type": "code",
      "metadata": {
        "id": "jL5usKNZSlj8"
      },
      "source": [
        "data['value'] = data['value'].str.replace('$',' ')"
      ],
      "execution_count": 45,
      "outputs": []
    },
    {
      "cell_type": "code",
      "metadata": {
        "id": "sFvfsVn7WE7h"
      },
      "source": [
        "data['value'] = data['value'].str.replace(',', '')"
      ],
      "execution_count": 53,
      "outputs": []
    },
    {
      "cell_type": "code",
      "metadata": {
        "colab": {
          "base_uri": "https://localhost:8080/"
        },
        "id": "Anq1he_zT3n8",
        "outputId": "43ed8311-423e-4558-9575-ac8220134143"
      },
      "source": [
        "data.value.head()"
      ],
      "execution_count": 42,
      "outputs": [
        {
          "output_type": "execute_result",
          "data": {
            "text/plain": [
              "0     200\n",
              "1     200\n",
              "2     200\n",
              "3     200\n",
              "4     200\n",
              "Name: value, dtype: object"
            ]
          },
          "metadata": {},
          "execution_count": 42
        }
      ]
    },
    {
      "cell_type": "code",
      "metadata": {
        "id": "D40IkRKsZ_T-"
      },
      "source": [
        "data['value'] = pd.to_numeric(data['value'], errors='coerce')"
      ],
      "execution_count": 54,
      "outputs": []
    },
    {
      "cell_type": "code",
      "metadata": {
        "id": "tss0pOh8aN8e"
      },
      "source": [
        "data = data.replace(np.nan, 0, regex=True)"
      ],
      "execution_count": 55,
      "outputs": []
    },
    {
      "cell_type": "code",
      "metadata": {
        "id": "pTs3leSeapHy",
        "outputId": "b7701cbb-d94b-42a3-94fd-fc1bb42ac37c",
        "colab": {
          "base_uri": "https://localhost:8080/"
        }
      },
      "source": [
        "data.info()"
      ],
      "execution_count": 56,
      "outputs": [
        {
          "output_type": "stream",
          "name": "stdout",
          "text": [
            "<class 'pandas.core.frame.DataFrame'>\n",
            "RangeIndex: 216930 entries, 0 to 216929\n",
            "Data columns (total 7 columns):\n",
            " #   Column       Non-Null Count   Dtype  \n",
            "---  ------       --------------   -----  \n",
            " 0   show_number  216930 non-null  int64  \n",
            " 1   air_date     216930 non-null  object \n",
            " 2   round        216930 non-null  object \n",
            " 3   category     216930 non-null  object \n",
            " 4   value        216930 non-null  float64\n",
            " 5   question     216930 non-null  object \n",
            " 6   answer       216930 non-null  object \n",
            "dtypes: float64(1), int64(1), object(5)\n",
            "memory usage: 11.6+ MB\n"
          ]
        }
      ]
    },
    {
      "cell_type": "code",
      "metadata": {
        "id": "nZf5l4DhbxGi",
        "outputId": "924dcbea-465a-4b54-e0ac-157665814e76",
        "colab": {
          "base_uri": "https://localhost:8080/"
        }
      },
      "source": [
        "search_list = ['King']\n",
        "\n",
        "question_4 = data[data.question.apply(lambda x: all(word.lower() in x.lower() for word in search_list))]\n",
        "question_4.value.mean()"
      ],
      "execution_count": 57,
      "outputs": [
        {
          "output_type": "execute_result",
          "data": {
            "text/plain": [
              "771.8833850722094"
            ]
          },
          "metadata": {},
          "execution_count": 57
        }
      ]
    },
    {
      "cell_type": "code",
      "metadata": {
        "id": "NW04PwAchu3X"
      },
      "source": [
        "def filter_function(data):\n",
        "  return data[data.question.apply(lambda x: all(word.lower() in x.lower() for word in search_list))]"
      ],
      "execution_count": 60,
      "outputs": []
    },
    {
      "cell_type": "code",
      "metadata": {
        "id": "N5FCiycPhNqV"
      },
      "source": [
        "def word_answer_counts(data):\n",
        "  return data.answer.value_counts()"
      ],
      "execution_count": 58,
      "outputs": []
    },
    {
      "cell_type": "code",
      "metadata": {
        "id": "4Lsw5w63hNo_",
        "outputId": "ec6a1a7d-b065-4ba2-d31c-3a007371f79d",
        "colab": {
          "base_uri": "https://localhost:8080/"
        }
      },
      "source": [
        "print(word_answer_counts(question_4))"
      ],
      "execution_count": 59,
      "outputs": [
        {
          "output_type": "stream",
          "name": "stdout",
          "text": [
            "Henry VIII             55\n",
            "Solomon                35\n",
            "Richard III            33\n",
            "Louis XIV              31\n",
            "David                  30\n",
            "                       ..\n",
            "Jay Leno               1 \n",
            "Sir John Falstaff      1 \n",
            "the continents         1 \n",
            "short-order cook       1 \n",
            "Pigs' Feet/Knuckles    1 \n",
            "Name: answer, Length: 5268, dtype: int64\n"
          ]
        }
      ]
    }
  ]
}